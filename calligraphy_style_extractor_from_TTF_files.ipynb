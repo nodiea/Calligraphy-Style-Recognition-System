{
 "cells": [
  {
   "cell_type": "code",
   "execution_count": null,
   "id": "6ca6c0b5-ac21-40d7-b73c-b877ce2110b6",
   "metadata": {},
   "outputs": [],
   "source": [
    "from PIL import Image, ImageFont, ImageDraw\n",
    "from fontTools.ttLib import TTFont\n",
    "import os\n",
    "\n",
    "def extract_glyphs_from_ttf(ttf_path, output_folder, image_size=(100, 100), font_size=72):\n",
    "    # Load the TrueType font file using fontTools library\n",
    "    font = TTFont(ttf_path)\n",
    "    \n",
    "    # Create a font object for drawing using PIL library\n",
    "    pil_font = ImageFont.truetype(ttf_path, font_size)\n",
    "    \n",
    "    # Check if the output directory exists; if not, create it\n",
    "    if not os.path.exists(output_folder):\n",
    "        os.makedirs(output_folder)\n",
    "\n",
    "    # Iterate through each character mapping table in the font\n",
    "    for table in font['cmap'].tables:\n",
    "        # Iterate through each character code and its name in the table\n",
    "        for code, name in table.cmap.items():\n",
    "            # Create a new image with white background\n",
    "            image = Image.new(\"RGB\", image_size, \"white\")\n",
    "            # Create a drawing context\n",
    "            draw = ImageDraw.Draw(image)\n",
    "            \n",
    "            # Convert the character code to its Unicode character\n",
    "            character = chr(code)\n",
    "            # Draw the character onto the image at position (10, 10)\n",
    "            draw.text((10, 10), character, font=pil_font, fill='black')\n",
    "\n",
    "            # Construct the path for the image to be saved\n",
    "            image_path = os.path.join(output_folder, f'{name}.png')\n",
    "            # Save the image to the specified path\n",
    "            image.save(image_path)\n",
    "            # Print a confirmation that the image has been saved\n",
    "            print(f\"Saved {image_path}\")\n",
    "\n",
    "# Example usage\n",
    "ttf_path = './TTF/颜真卿颜体_mianfeiziti.com.ttf'  # Path to the TTF file\n",
    "output_folder = '颜真卿颜体'  # Output directory to store images\n",
    "extract_glyphs_from_ttf(ttf_path, output_folder)  # Function call\n"
   ]
  },
  {
   "cell_type": "code",
   "execution_count": null,
   "id": "7a1337da-6fa7-41b5-a356-19c2b37f46df",
   "metadata": {},
   "outputs": [],
   "source": []
  }
 ],
 "metadata": {
  "kernelspec": {
   "display_name": "Python 3 (ipykernel)",
   "language": "python",
   "name": "python3"
  },
  "language_info": {
   "codemirror_mode": {
    "name": "ipython",
    "version": 3
   },
   "file_extension": ".py",
   "mimetype": "text/x-python",
   "name": "python",
   "nbconvert_exporter": "python",
   "pygments_lexer": "ipython3",
   "version": "3.9.15"
  }
 },
 "nbformat": 4,
 "nbformat_minor": 5
}
